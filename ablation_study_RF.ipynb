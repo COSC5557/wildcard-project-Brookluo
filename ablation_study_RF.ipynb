{
 "cells": [
  {
   "cell_type": "code",
   "execution_count": 1,
   "id": "defaa03a",
   "metadata": {},
   "outputs": [
    {
     "name": "stderr",
     "output_type": "stream",
     "text": [
      "/root/.local/lib/python3.8/site-packages/sklearn/datasets/_openml.py:1022: FutureWarning: The default value of `parser` will change from `'liac-arff'` to `'auto'` in 1.4. You can set `parser='auto'` to silence this warning. Therefore, an `ImportError` will be raised from 1.4 if the dataset is dense and pandas is not installed. Note that the pandas parser may return different data types. See the Notes Section in fetch_openml's API doc for details.\n",
      "  warn(\n",
      "<jemalloc>: MADV_DONTNEED does not work (memset will be used instead)\n",
      "<jemalloc>: (This is the expected behaviour if you are running under QEMU)\n"
     ]
    }
   ],
   "source": [
    "import sklearn.model_selection\n",
    "from sklearn.datasets import fetch_openml\n",
    "import sklearn.metrics\n",
    "from sklearn.ensemble import RandomForestClassifier\n",
    "from sklearn.preprocessing import OneHotEncoder\n",
    "import numpy as np\n",
    "\n",
    "X, y = fetch_openml(data_id=40691, as_frame=True, return_X_y=True)\n",
    "y = np.array(y, dtype=int)"
   ]
  },
  {
   "cell_type": "code",
   "execution_count": 2,
   "id": "bd7a0dbe",
   "metadata": {},
   "outputs": [],
   "source": [
    "# !ln -s /usr/local/bin/pip /usr/bin/pip3.8\n",
    "# !pip install --user imblearn"
   ]
  },
  {
   "cell_type": "code",
   "execution_count": 3,
   "id": "5649de81",
   "metadata": {},
   "outputs": [],
   "source": [
    "import autosklearn\n",
    "from autosklearn.classification import AutoSklearnClassifier\n",
    "import imblearn"
   ]
  },
  {
   "cell_type": "code",
   "execution_count": 4,
   "id": "95e9e3bc",
   "metadata": {},
   "outputs": [],
   "source": [
    "from pprint import pprint"
   ]
  },
  {
   "cell_type": "code",
   "execution_count": 5,
   "id": "20169687",
   "metadata": {},
   "outputs": [],
   "source": [
    "import seaborn as sns\n",
    "import matplotlib.pyplot as plt\n",
    "import pandas as pd"
   ]
  },
  {
   "cell_type": "markdown",
   "id": "b6d75697",
   "metadata": {},
   "source": [
    "# Problem statement\n",
    "\n",
    "From the auto-sklearn fail assignment and the pipe line optimization assignment, we have observed that the random forest (RF) classifier performs quite well on the dataset even with the default parameter. It took many approaches to further improve the performance of the tuned RF classifier. How the performance was improved and by how much each changes bring to the model performance is not clear. In this assignment, we will conduct an ablation study to understand the impact of each hyperparameter tuning on the performance of the RF classifier. We will use the `RandomForestClassifier` from the `sklearn` library to perform the hyperparameter tuning. By default, auto-sklearn uses Bayesian Optimization to perform the hyperparameter tuning. We will use the `accuracy` as the performance metric to evaluate the model performance."
   ]
  },
  {
   "cell_type": "markdown",
   "id": "3ba233af",
   "metadata": {},
   "source": [
    "# Dataset\n",
    "\n",
    "Since I am using the same dataset as the previous assignment, the issue of the data is the same. The dataset is imbalanced and features are skewed. Therefore, I will put SMOTE and scaler optimization into the ablation study."
   ]
  },
  {
   "cell_type": "code",
   "execution_count": 6,
   "id": "e2689245",
   "metadata": {},
   "outputs": [
    {
     "name": "stdout",
     "output_type": "stream",
     "text": [
      "<class 'pandas.core.frame.DataFrame'>\n",
      "RangeIndex: 1599 entries, 0 to 1598\n",
      "Data columns (total 11 columns):\n",
      " #   Column                Non-Null Count  Dtype  \n",
      "---  ------                --------------  -----  \n",
      " 0   fixed_acidity         1599 non-null   float64\n",
      " 1   volatile_acidity      1599 non-null   float64\n",
      " 2   citric_acid           1599 non-null   float64\n",
      " 3   residual_sugar        1599 non-null   float64\n",
      " 4   chlorides             1599 non-null   float64\n",
      " 5   free_sulfur_dioxide   1599 non-null   float64\n",
      " 6   total_sulfur_dioxide  1599 non-null   float64\n",
      " 7   density               1599 non-null   float64\n",
      " 8   pH                    1599 non-null   float64\n",
      " 9   sulphates             1599 non-null   float64\n",
      " 10  alcohol               1599 non-null   float64\n",
      "dtypes: float64(11)\n",
      "memory usage: 137.5 KB\n"
     ]
    }
   ],
   "source": [
    "X.info()"
   ]
  },
  {
   "cell_type": "code",
   "execution_count": 7,
   "id": "146eb4c7",
   "metadata": {},
   "outputs": [
    {
     "data": {
      "text/html": [
       "<div>\n",
       "<style scoped>\n",
       "    .dataframe tbody tr th:only-of-type {\n",
       "        vertical-align: middle;\n",
       "    }\n",
       "\n",
       "    .dataframe tbody tr th {\n",
       "        vertical-align: top;\n",
       "    }\n",
       "\n",
       "    .dataframe thead th {\n",
       "        text-align: right;\n",
       "    }\n",
       "</style>\n",
       "<table border=\"1\" class=\"dataframe\">\n",
       "  <thead>\n",
       "    <tr style=\"text-align: right;\">\n",
       "      <th></th>\n",
       "      <th>fixed_acidity</th>\n",
       "      <th>volatile_acidity</th>\n",
       "      <th>citric_acid</th>\n",
       "      <th>residual_sugar</th>\n",
       "      <th>chlorides</th>\n",
       "      <th>free_sulfur_dioxide</th>\n",
       "      <th>total_sulfur_dioxide</th>\n",
       "      <th>density</th>\n",
       "      <th>pH</th>\n",
       "      <th>sulphates</th>\n",
       "      <th>alcohol</th>\n",
       "    </tr>\n",
       "  </thead>\n",
       "  <tbody>\n",
       "    <tr>\n",
       "      <th>count</th>\n",
       "      <td>1599.000000</td>\n",
       "      <td>1599.000000</td>\n",
       "      <td>1599.000000</td>\n",
       "      <td>1599.000000</td>\n",
       "      <td>1599.000000</td>\n",
       "      <td>1599.000000</td>\n",
       "      <td>1599.000000</td>\n",
       "      <td>1599.000000</td>\n",
       "      <td>1599.000000</td>\n",
       "      <td>1599.000000</td>\n",
       "      <td>1599.000000</td>\n",
       "    </tr>\n",
       "    <tr>\n",
       "      <th>mean</th>\n",
       "      <td>8.319637</td>\n",
       "      <td>0.527821</td>\n",
       "      <td>0.270976</td>\n",
       "      <td>2.538806</td>\n",
       "      <td>0.087467</td>\n",
       "      <td>15.874922</td>\n",
       "      <td>46.467792</td>\n",
       "      <td>0.996747</td>\n",
       "      <td>3.311113</td>\n",
       "      <td>0.658149</td>\n",
       "      <td>10.422983</td>\n",
       "    </tr>\n",
       "    <tr>\n",
       "      <th>std</th>\n",
       "      <td>1.741096</td>\n",
       "      <td>0.179060</td>\n",
       "      <td>0.194801</td>\n",
       "      <td>1.409928</td>\n",
       "      <td>0.047065</td>\n",
       "      <td>10.460157</td>\n",
       "      <td>32.895324</td>\n",
       "      <td>0.001887</td>\n",
       "      <td>0.154386</td>\n",
       "      <td>0.169507</td>\n",
       "      <td>1.065668</td>\n",
       "    </tr>\n",
       "    <tr>\n",
       "      <th>min</th>\n",
       "      <td>4.600000</td>\n",
       "      <td>0.120000</td>\n",
       "      <td>0.000000</td>\n",
       "      <td>0.900000</td>\n",
       "      <td>0.012000</td>\n",
       "      <td>1.000000</td>\n",
       "      <td>6.000000</td>\n",
       "      <td>0.990070</td>\n",
       "      <td>2.740000</td>\n",
       "      <td>0.330000</td>\n",
       "      <td>8.400000</td>\n",
       "    </tr>\n",
       "    <tr>\n",
       "      <th>25%</th>\n",
       "      <td>7.100000</td>\n",
       "      <td>0.390000</td>\n",
       "      <td>0.090000</td>\n",
       "      <td>1.900000</td>\n",
       "      <td>0.070000</td>\n",
       "      <td>7.000000</td>\n",
       "      <td>22.000000</td>\n",
       "      <td>0.995600</td>\n",
       "      <td>3.210000</td>\n",
       "      <td>0.550000</td>\n",
       "      <td>9.500000</td>\n",
       "    </tr>\n",
       "    <tr>\n",
       "      <th>50%</th>\n",
       "      <td>7.900000</td>\n",
       "      <td>0.520000</td>\n",
       "      <td>0.260000</td>\n",
       "      <td>2.200000</td>\n",
       "      <td>0.079000</td>\n",
       "      <td>14.000000</td>\n",
       "      <td>38.000000</td>\n",
       "      <td>0.996750</td>\n",
       "      <td>3.310000</td>\n",
       "      <td>0.620000</td>\n",
       "      <td>10.200000</td>\n",
       "    </tr>\n",
       "    <tr>\n",
       "      <th>75%</th>\n",
       "      <td>9.200000</td>\n",
       "      <td>0.640000</td>\n",
       "      <td>0.420000</td>\n",
       "      <td>2.600000</td>\n",
       "      <td>0.090000</td>\n",
       "      <td>21.000000</td>\n",
       "      <td>62.000000</td>\n",
       "      <td>0.997835</td>\n",
       "      <td>3.400000</td>\n",
       "      <td>0.730000</td>\n",
       "      <td>11.100000</td>\n",
       "    </tr>\n",
       "    <tr>\n",
       "      <th>max</th>\n",
       "      <td>15.900000</td>\n",
       "      <td>1.580000</td>\n",
       "      <td>1.000000</td>\n",
       "      <td>15.500000</td>\n",
       "      <td>0.611000</td>\n",
       "      <td>72.000000</td>\n",
       "      <td>289.000000</td>\n",
       "      <td>1.003690</td>\n",
       "      <td>4.010000</td>\n",
       "      <td>2.000000</td>\n",
       "      <td>14.900000</td>\n",
       "    </tr>\n",
       "  </tbody>\n",
       "</table>\n",
       "</div>"
      ],
      "text/plain": [
       "       fixed_acidity  volatile_acidity  citric_acid  residual_sugar  \\\n",
       "count    1599.000000       1599.000000  1599.000000     1599.000000   \n",
       "mean        8.319637          0.527821     0.270976        2.538806   \n",
       "std         1.741096          0.179060     0.194801        1.409928   \n",
       "min         4.600000          0.120000     0.000000        0.900000   \n",
       "25%         7.100000          0.390000     0.090000        1.900000   \n",
       "50%         7.900000          0.520000     0.260000        2.200000   \n",
       "75%         9.200000          0.640000     0.420000        2.600000   \n",
       "max        15.900000          1.580000     1.000000       15.500000   \n",
       "\n",
       "         chlorides  free_sulfur_dioxide  total_sulfur_dioxide      density  \\\n",
       "count  1599.000000          1599.000000           1599.000000  1599.000000   \n",
       "mean      0.087467            15.874922             46.467792     0.996747   \n",
       "std       0.047065            10.460157             32.895324     0.001887   \n",
       "min       0.012000             1.000000              6.000000     0.990070   \n",
       "25%       0.070000             7.000000             22.000000     0.995600   \n",
       "50%       0.079000            14.000000             38.000000     0.996750   \n",
       "75%       0.090000            21.000000             62.000000     0.997835   \n",
       "max       0.611000            72.000000            289.000000     1.003690   \n",
       "\n",
       "                pH    sulphates      alcohol  \n",
       "count  1599.000000  1599.000000  1599.000000  \n",
       "mean      3.311113     0.658149    10.422983  \n",
       "std       0.154386     0.169507     1.065668  \n",
       "min       2.740000     0.330000     8.400000  \n",
       "25%       3.210000     0.550000     9.500000  \n",
       "50%       3.310000     0.620000    10.200000  \n",
       "75%       3.400000     0.730000    11.100000  \n",
       "max       4.010000     2.000000    14.900000  "
      ]
     },
     "execution_count": 7,
     "metadata": {},
     "output_type": "execute_result"
    }
   ],
   "source": [
    "X.describe()"
   ]
  },
  {
   "cell_type": "markdown",
   "id": "206a5caa",
   "metadata": {},
   "source": [
    "# Ablation study\n",
    "\n",
    "The ablation study for the random forest will be focused on comparing the autosklearn tuned pipeline performance vs. \n",
    "the default model only performance. This ablation study will reveal the impact of each hyperparameter tuning on the performance of the RF classifier. The hyperparameters that will be tuned are as follows:\n",
    "\n",
    "- SMOTE\n",
    "- Scaler\n",
    "- total search time\n",
    "- resampling strategy and arguments\n",
    "- n_estimators\n",
    "- max_depth\n",
    "- min_samples_split\n",
    "- min_samples_leaf\n",
    "- max_features\n",
    "- bootstrap\n",
    "- criterion\n",
    "- max_samples"
   ]
  },
  {
   "cell_type": "code",
   "execution_count": 12,
   "id": "a4abdf77",
   "metadata": {},
   "outputs": [],
   "source": [
    "from imblearn.combine import SMOTETomek\n",
    "from imblearn.over_sampling import SMOTE"
   ]
  },
  {
   "cell_type": "code",
   "execution_count": 13,
   "id": "9b557bb8",
   "metadata": {},
   "outputs": [],
   "source": [
    "# X_samp, y_samp = SMOTETomek(random_state=42, sampling_strategy='auto').fit_resample(X, y)\n",
    "samp_count = {\n",
    "    3: 200,\n",
    "    4: 200,\n",
    "#     5: 200,\n",
    "#     6: 200,\n",
    "#     7: 200,\n",
    "    8: 200\n",
    "}\n",
    "X_samp, y_samp = SMOTETomek(random_state=42, sampling_strategy=samp_count).fit_resample(X, y)"
   ]
  },
  {
   "cell_type": "code",
   "execution_count": 14,
   "id": "6048c764",
   "metadata": {},
   "outputs": [
    {
     "data": {
      "text/plain": [
       "[(3, 10), (4, 53), (5, 681), (6, 638), (7, 199), (8, 18)]"
      ]
     },
     "execution_count": 14,
     "metadata": {},
     "output_type": "execute_result"
    }
   ],
   "source": [
    "list(zip(*np.unique(y, return_counts=True)))"
   ]
  },
  {
   "cell_type": "code",
   "execution_count": 15,
   "id": "a63e9a3b",
   "metadata": {},
   "outputs": [
    {
     "data": {
      "text/plain": [
       "[(3, 197), (4, 181), (5, 599), (6, 546), (7, 167), (8, 188)]"
      ]
     },
     "execution_count": 15,
     "metadata": {},
     "output_type": "execute_result"
    }
   ],
   "source": [
    "list(zip(*np.unique(y_samp, return_counts=True)))"
   ]
  },
  {
   "cell_type": "code",
   "execution_count": 16,
   "id": "2c78b908",
   "metadata": {},
   "outputs": [],
   "source": [
    "X_train, X_test, y_train, y_test = sklearn.model_selection.train_test_split(X_samp, y_samp, random_state=0, train_size=0.7)"
   ]
  },
  {
   "cell_type": "code",
   "execution_count": 17,
   "id": "5f2365d6",
   "metadata": {},
   "outputs": [],
   "source": [
    "# rb = RobustScaler().fit(X_train)\n",
    "# X_train_trans = rb.transform(X_train)\n",
    "# X_test_trans = rb.transform(X_test)"
   ]
  },
  {
   "cell_type": "code",
   "execution_count": 18,
   "id": "9f318016",
   "metadata": {},
   "outputs": [
    {
     "name": "stdout",
     "output_type": "stream",
     "text": [
      "Default RF Accuracy 0.75\n"
     ]
    }
   ],
   "source": [
    "clf = RandomForestClassifier(random_state=42)\n",
    "clf = clf.fit(X_train, y_train)\n",
    "default_score = clf.score(X_test, y_test)\n",
    "print(\"Default RF Accuracy\", default_score)"
   ]
  },
  {
   "cell_type": "code",
   "execution_count": 61,
   "id": "c1ab3463",
   "metadata": {},
   "outputs": [
    {
     "name": "stdout",
     "output_type": "stream",
     "text": [
      "[WARNING] [2024-04-28 00:35:26,420:Client-AutoMLSMBO(42)::32c9a1b1-04f7-11ef-9362-0242ac110002] Configuration 129 not found\n",
      "[WARNING] [2024-04-28 00:35:26,424:Client-AutoMLSMBO(42)::32c9a1b1-04f7-11ef-9362-0242ac110002] Configuration 595 not found\n",
      "[WARNING] [2024-04-28 00:35:26,425:Client-AutoMLSMBO(42)::32c9a1b1-04f7-11ef-9362-0242ac110002] Configuration 608 not found\n",
      "[WARNING] [2024-04-28 00:35:26,426:Client-AutoMLSMBO(42)::32c9a1b1-04f7-11ef-9362-0242ac110002] Configuration 83 not found\n",
      "[WARNING] [2024-04-28 00:35:26,426:Client-AutoMLSMBO(42)::32c9a1b1-04f7-11ef-9362-0242ac110002] Configuration 124 not found\n",
      "[WARNING] [2024-04-28 00:35:26,428:Client-AutoMLSMBO(42)::32c9a1b1-04f7-11ef-9362-0242ac110002] Configuration 434 not found\n",
      "[WARNING] [2024-04-28 00:35:26,428:Client-AutoMLSMBO(42)::32c9a1b1-04f7-11ef-9362-0242ac110002] Configuration 683 not found\n",
      "[WARNING] [2024-04-28 00:35:26,428:Client-AutoMLSMBO(42)::32c9a1b1-04f7-11ef-9362-0242ac110002] Configuration 352 not found\n",
      "[WARNING] [2024-04-28 00:35:26,428:Client-AutoMLSMBO(42)::32c9a1b1-04f7-11ef-9362-0242ac110002] Configuration 707 not found\n",
      "[WARNING] [2024-04-28 00:35:26,428:Client-AutoMLSMBO(42)::32c9a1b1-04f7-11ef-9362-0242ac110002] Configuration 680 not found\n",
      "[WARNING] [2024-04-28 00:35:26,428:Client-AutoMLSMBO(42)::32c9a1b1-04f7-11ef-9362-0242ac110002] Configuration 277 not found\n",
      "[WARNING] [2024-04-28 00:35:26,429:Client-AutoMLSMBO(42)::32c9a1b1-04f7-11ef-9362-0242ac110002] Configuration 615 not found\n",
      "[WARNING] [2024-04-28 00:35:26,429:Client-AutoMLSMBO(42)::32c9a1b1-04f7-11ef-9362-0242ac110002] Configuration 414 not found\n",
      "[WARNING] [2024-04-28 00:35:26,429:Client-AutoMLSMBO(42)::32c9a1b1-04f7-11ef-9362-0242ac110002] Configuration 555 not found\n",
      "[WARNING] [2024-04-28 00:35:26,429:Client-AutoMLSMBO(42)::32c9a1b1-04f7-11ef-9362-0242ac110002] Configuration 647 not found\n",
      "[WARNING] [2024-04-28 00:35:26,429:Client-AutoMLSMBO(42)::32c9a1b1-04f7-11ef-9362-0242ac110002] Configuration 88 not found\n",
      "[WARNING] [2024-04-28 00:35:26,430:Client-AutoMLSMBO(42)::32c9a1b1-04f7-11ef-9362-0242ac110002] Configuration 17 not found\n",
      "[WARNING] [2024-04-28 00:35:26,430:Client-AutoMLSMBO(42)::32c9a1b1-04f7-11ef-9362-0242ac110002] Configuration 571 not found\n",
      "[WARNING] [2024-04-28 00:35:26,430:Client-AutoMLSMBO(42)::32c9a1b1-04f7-11ef-9362-0242ac110002] Configuration 521 not found\n",
      "[WARNING] [2024-04-28 00:35:26,431:Client-AutoMLSMBO(42)::32c9a1b1-04f7-11ef-9362-0242ac110002] Configuration 14 not found\n",
      "[WARNING] [2024-04-28 00:35:26,431:Client-AutoMLSMBO(42)::32c9a1b1-04f7-11ef-9362-0242ac110002] Configuration 617 not found\n",
      "[WARNING] [2024-04-28 00:35:26,431:Client-AutoMLSMBO(42)::32c9a1b1-04f7-11ef-9362-0242ac110002] Configuration 613 not found\n",
      "[WARNING] [2024-04-28 00:35:26,431:Client-AutoMLSMBO(42)::32c9a1b1-04f7-11ef-9362-0242ac110002] Configuration 112 not found\n",
      "[WARNING] [2024-04-28 00:35:26,431:Client-AutoMLSMBO(42)::32c9a1b1-04f7-11ef-9362-0242ac110002] Configuration 445 not found\n",
      "[WARNING] [2024-04-28 00:35:26,431:Client-AutoMLSMBO(42)::32c9a1b1-04f7-11ef-9362-0242ac110002] Configuration 494 not found\n",
      "[WARNING] [2024-04-28 00:35:26,431:Client-AutoMLSMBO(42)::32c9a1b1-04f7-11ef-9362-0242ac110002] Configuration 378 not found\n",
      "[WARNING] [2024-04-28 00:35:26,431:Client-AutoMLSMBO(42)::32c9a1b1-04f7-11ef-9362-0242ac110002] Configuration 173 not found\n",
      "[WARNING] [2024-04-28 00:35:26,432:Client-AutoMLSMBO(42)::32c9a1b1-04f7-11ef-9362-0242ac110002] Configuration 247 not found\n",
      "[WARNING] [2024-04-28 00:35:26,432:Client-AutoMLSMBO(42)::32c9a1b1-04f7-11ef-9362-0242ac110002] Configuration 628 not found\n",
      "[WARNING] [2024-04-28 00:35:26,432:Client-AutoMLSMBO(42)::32c9a1b1-04f7-11ef-9362-0242ac110002] Configuration 204 not found\n",
      "[WARNING] [2024-04-28 00:35:26,432:Client-AutoMLSMBO(42)::32c9a1b1-04f7-11ef-9362-0242ac110002] Configuration 288 not found\n",
      "[WARNING] [2024-04-28 00:35:26,432:Client-AutoMLSMBO(42)::32c9a1b1-04f7-11ef-9362-0242ac110002] Configuration 579 not found\n",
      "[WARNING] [2024-04-28 00:35:26,432:Client-AutoMLSMBO(42)::32c9a1b1-04f7-11ef-9362-0242ac110002] Configuration 298 not found\n",
      "[WARNING] [2024-04-28 00:35:26,433:Client-AutoMLSMBO(42)::32c9a1b1-04f7-11ef-9362-0242ac110002] Configuration 257 not found\n",
      "[WARNING] [2024-04-28 00:35:26,433:Client-AutoMLSMBO(42)::32c9a1b1-04f7-11ef-9362-0242ac110002] Configuration 162 not found\n",
      "[WARNING] [2024-04-28 00:35:26,433:Client-AutoMLSMBO(42)::32c9a1b1-04f7-11ef-9362-0242ac110002] Configuration 22 not found\n",
      "[WARNING] [2024-04-28 00:35:26,433:Client-AutoMLSMBO(42)::32c9a1b1-04f7-11ef-9362-0242ac110002] Configuration 492 not found\n",
      "[WARNING] [2024-04-28 00:35:26,433:Client-AutoMLSMBO(42)::32c9a1b1-04f7-11ef-9362-0242ac110002] Configuration 702 not found\n",
      "[WARNING] [2024-04-28 00:35:26,433:Client-AutoMLSMBO(42)::32c9a1b1-04f7-11ef-9362-0242ac110002] Configuration 56 not found\n",
      "[WARNING] [2024-04-28 00:35:26,433:Client-AutoMLSMBO(42)::32c9a1b1-04f7-11ef-9362-0242ac110002] Configuration 188 not found\n",
      "[WARNING] [2024-04-28 00:35:26,433:Client-AutoMLSMBO(42)::32c9a1b1-04f7-11ef-9362-0242ac110002] Configuration 444 not found\n",
      "[WARNING] [2024-04-28 00:35:26,433:Client-AutoMLSMBO(42)::32c9a1b1-04f7-11ef-9362-0242ac110002] Configuration 694 not found\n",
      "[WARNING] [2024-04-28 00:35:26,433:Client-AutoMLSMBO(42)::32c9a1b1-04f7-11ef-9362-0242ac110002] Configuration 329 not found\n",
      "[WARNING] [2024-04-28 00:35:26,434:Client-AutoMLSMBO(42)::32c9a1b1-04f7-11ef-9362-0242ac110002] Configuration 222 not found\n",
      "[WARNING] [2024-04-28 00:35:26,434:Client-AutoMLSMBO(42)::32c9a1b1-04f7-11ef-9362-0242ac110002] Configuration 91 not found\n",
      "[WARNING] [2024-04-28 00:35:26,434:Client-AutoMLSMBO(42)::32c9a1b1-04f7-11ef-9362-0242ac110002] Configuration 71 not found\n",
      "[WARNING] [2024-04-28 00:35:26,435:Client-AutoMLSMBO(42)::32c9a1b1-04f7-11ef-9362-0242ac110002] Configuration 327 not found\n",
      "[WARNING] [2024-04-28 00:35:26,435:Client-AutoMLSMBO(42)::32c9a1b1-04f7-11ef-9362-0242ac110002] Configuration 386 not found\n",
      "[WARNING] [2024-04-28 00:35:26,435:Client-AutoMLSMBO(42)::32c9a1b1-04f7-11ef-9362-0242ac110002] Configuration 668 not found\n",
      "[WARNING] [2024-04-28 00:35:26,435:Client-AutoMLSMBO(42)::32c9a1b1-04f7-11ef-9362-0242ac110002] Configuration 108 not found\n",
      "[WARNING] [2024-04-28 00:35:26,435:Client-AutoMLSMBO(42)::32c9a1b1-04f7-11ef-9362-0242ac110002] Configuration 590 not found\n",
      "[WARNING] [2024-04-28 00:35:26,435:Client-AutoMLSMBO(42)::32c9a1b1-04f7-11ef-9362-0242ac110002] Configuration 659 not found\n",
      "[WARNING] [2024-04-28 00:35:26,435:Client-AutoMLSMBO(42)::32c9a1b1-04f7-11ef-9362-0242ac110002] Configuration 467 not found\n",
      "[WARNING] [2024-04-28 00:35:26,436:Client-AutoMLSMBO(42)::32c9a1b1-04f7-11ef-9362-0242ac110002] Configuration 7 not found\n",
      "[WARNING] [2024-04-28 00:35:26,436:Client-AutoMLSMBO(42)::32c9a1b1-04f7-11ef-9362-0242ac110002] Configuration 75 not found\n",
      "[WARNING] [2024-04-28 00:35:26,436:Client-AutoMLSMBO(42)::32c9a1b1-04f7-11ef-9362-0242ac110002] Configuration 138 not found\n",
      "[WARNING] [2024-04-28 00:35:26,436:Client-AutoMLSMBO(42)::32c9a1b1-04f7-11ef-9362-0242ac110002] Configuration 332 not found\n",
      "[WARNING] [2024-04-28 00:35:26,437:Client-AutoMLSMBO(42)::32c9a1b1-04f7-11ef-9362-0242ac110002] Configuration 61 not found\n",
      "[WARNING] [2024-04-28 00:35:26,437:Client-AutoMLSMBO(42)::32c9a1b1-04f7-11ef-9362-0242ac110002] Configuration 184 not found\n",
      "[WARNING] [2024-04-28 00:35:26,437:Client-AutoMLSMBO(42)::32c9a1b1-04f7-11ef-9362-0242ac110002] Configuration 631 not found\n",
      "[WARNING] [2024-04-28 00:35:26,437:Client-AutoMLSMBO(42)::32c9a1b1-04f7-11ef-9362-0242ac110002] Configuration 211 not found\n",
      "[WARNING] [2024-04-28 00:35:26,437:Client-AutoMLSMBO(42)::32c9a1b1-04f7-11ef-9362-0242ac110002] Configuration 347 not found\n",
      "[WARNING] [2024-04-28 00:35:26,438:Client-AutoMLSMBO(42)::32c9a1b1-04f7-11ef-9362-0242ac110002] Configuration 176 not found\n",
      "[WARNING] [2024-04-28 00:35:26,438:Client-AutoMLSMBO(42)::32c9a1b1-04f7-11ef-9362-0242ac110002] Configuration 460 not found\n",
      "[WARNING] [2024-04-28 00:35:26,439:Client-AutoMLSMBO(42)::32c9a1b1-04f7-11ef-9362-0242ac110002] Configuration 473 not found\n",
      "[WARNING] [2024-04-28 00:35:26,439:Client-AutoMLSMBO(42)::32c9a1b1-04f7-11ef-9362-0242ac110002] Configuration 399 not found\n",
      "[WARNING] [2024-04-28 00:35:26,439:Client-AutoMLSMBO(42)::32c9a1b1-04f7-11ef-9362-0242ac110002] Configuration 206 not found\n",
      "[WARNING] [2024-04-28 00:35:26,439:Client-AutoMLSMBO(42)::32c9a1b1-04f7-11ef-9362-0242ac110002] Configuration 358 not found\n",
      "[WARNING] [2024-04-28 00:35:26,439:Client-AutoMLSMBO(42)::32c9a1b1-04f7-11ef-9362-0242ac110002] Configuration 149 not found\n",
      "[WARNING] [2024-04-28 00:35:26,440:Client-AutoMLSMBO(42)::32c9a1b1-04f7-11ef-9362-0242ac110002] Configuration 1 not found\n",
      "[WARNING] [2024-04-28 00:35:26,440:Client-AutoMLSMBO(42)::32c9a1b1-04f7-11ef-9362-0242ac110002] Configuration 506 not found\n",
      "[WARNING] [2024-04-28 00:35:26,440:Client-AutoMLSMBO(42)::32c9a1b1-04f7-11ef-9362-0242ac110002] Configuration 532 not found\n",
      "[WARNING] [2024-04-28 00:35:26,440:Client-AutoMLSMBO(42)::32c9a1b1-04f7-11ef-9362-0242ac110002] Configuration 454 not found\n",
      "[WARNING] [2024-04-28 00:35:26,440:Client-AutoMLSMBO(42)::32c9a1b1-04f7-11ef-9362-0242ac110002] Configuration 345 not found\n",
      "[WARNING] [2024-04-28 00:35:26,441:Client-AutoMLSMBO(42)::32c9a1b1-04f7-11ef-9362-0242ac110002] Configuration 657 not found\n",
      "[WARNING] [2024-04-28 00:35:26,441:Client-AutoMLSMBO(42)::32c9a1b1-04f7-11ef-9362-0242ac110002] Configuration 238 not found\n",
      "[WARNING] [2024-04-28 00:35:26,441:Client-AutoMLSMBO(42)::32c9a1b1-04f7-11ef-9362-0242ac110002] Configuration 653 not found\n",
      "[WARNING] [2024-04-28 00:35:26,441:Client-AutoMLSMBO(42)::32c9a1b1-04f7-11ef-9362-0242ac110002] Configuration 67 not found\n",
      "[WARNING] [2024-04-28 00:35:26,441:Client-AutoMLSMBO(42)::32c9a1b1-04f7-11ef-9362-0242ac110002] Configuration 230 not found\n",
      "[WARNING] [2024-04-28 00:35:26,441:Client-AutoMLSMBO(42)::32c9a1b1-04f7-11ef-9362-0242ac110002] Configuration 121 not found\n",
      "[WARNING] [2024-04-28 00:35:26,442:Client-AutoMLSMBO(42)::32c9a1b1-04f7-11ef-9362-0242ac110002] Configuration 601 not found\n",
      "[WARNING] [2024-04-28 00:35:26,442:Client-AutoMLSMBO(42)::32c9a1b1-04f7-11ef-9362-0242ac110002] Configuration 426 not found\n",
      "[WARNING] [2024-04-28 00:35:26,442:Client-AutoMLSMBO(42)::32c9a1b1-04f7-11ef-9362-0242ac110002] Configuration 576 not found\n",
      "[WARNING] [2024-04-28 00:35:26,442:Client-AutoMLSMBO(42)::32c9a1b1-04f7-11ef-9362-0242ac110002] Configuration 69 not found\n",
      "[WARNING] [2024-04-28 00:35:26,442:Client-AutoMLSMBO(42)::32c9a1b1-04f7-11ef-9362-0242ac110002] Configuration 437 not found\n",
      "[WARNING] [2024-04-28 00:35:26,442:Client-AutoMLSMBO(42)::32c9a1b1-04f7-11ef-9362-0242ac110002] Configuration 142 not found\n",
      "[WARNING] [2024-04-28 00:35:26,443:Client-AutoMLSMBO(42)::32c9a1b1-04f7-11ef-9362-0242ac110002] Configuration 624 not found\n",
      "[WARNING] [2024-04-28 00:35:26,443:Client-AutoMLSMBO(42)::32c9a1b1-04f7-11ef-9362-0242ac110002] Configuration 310 not found\n",
      "[WARNING] [2024-04-28 00:35:26,444:Client-AutoMLSMBO(42)::32c9a1b1-04f7-11ef-9362-0242ac110002] Configuration 134 not found\n",
      "[WARNING] [2024-04-28 00:35:26,444:Client-AutoMLSMBO(42)::32c9a1b1-04f7-11ef-9362-0242ac110002] Configuration 518 not found\n",
      "[WARNING] [2024-04-28 00:35:26,444:Client-AutoMLSMBO(42)::32c9a1b1-04f7-11ef-9362-0242ac110002] Configuration 543 not found\n",
      "[WARNING] [2024-04-28 00:35:26,444:Client-AutoMLSMBO(42)::32c9a1b1-04f7-11ef-9362-0242ac110002] Configuration 407 not found\n",
      "[WARNING] [2024-04-28 00:35:26,445:Client-AutoMLSMBO(42)::32c9a1b1-04f7-11ef-9362-0242ac110002] Configuration 32 not found\n",
      "[WARNING] [2024-04-28 00:35:26,445:Client-AutoMLSMBO(42)::32c9a1b1-04f7-11ef-9362-0242ac110002] Configuration 690 not found\n",
      "[WARNING] [2024-04-28 00:35:26,445:Client-AutoMLSMBO(42)::32c9a1b1-04f7-11ef-9362-0242ac110002] Configuration 367 not found\n",
      "[WARNING] [2024-04-28 00:35:26,445:Client-AutoMLSMBO(42)::32c9a1b1-04f7-11ef-9362-0242ac110002] Configuration 191 not found\n",
      "[WARNING] [2024-04-28 00:35:26,445:Client-AutoMLSMBO(42)::32c9a1b1-04f7-11ef-9362-0242ac110002] Configuration 283 not found\n",
      "[WARNING] [2024-04-28 00:35:26,446:Client-AutoMLSMBO(42)::32c9a1b1-04f7-11ef-9362-0242ac110002] Configuration 254 not found\n",
      "[WARNING] [2024-04-28 00:35:26,446:Client-AutoMLSMBO(42)::32c9a1b1-04f7-11ef-9362-0242ac110002] Configuration 448 not found\n",
      "[WARNING] [2024-04-28 00:35:26,446:Client-AutoMLSMBO(42)::32c9a1b1-04f7-11ef-9362-0242ac110002] Configuration 605 not found\n",
      "[WARNING] [2024-04-28 00:35:26,446:Client-AutoMLSMBO(42)::32c9a1b1-04f7-11ef-9362-0242ac110002] Configuration 19 not found\n",
      "[WARNING] [2024-04-28 00:35:26,446:Client-AutoMLSMBO(42)::32c9a1b1-04f7-11ef-9362-0242ac110002] Configuration 264 not found\n",
      "[WARNING] [2024-04-28 00:35:26,446:Client-AutoMLSMBO(42)::32c9a1b1-04f7-11ef-9362-0242ac110002] Configuration 546 not found\n",
      "[WARNING] [2024-04-28 00:35:26,446:Client-AutoMLSMBO(42)::32c9a1b1-04f7-11ef-9362-0242ac110002] Configuration 9 not found\n",
      "[WARNING] [2024-04-28 00:35:26,447:Client-AutoMLSMBO(42)::32c9a1b1-04f7-11ef-9362-0242ac110002] Configuration 147 not found\n",
      "[WARNING] [2024-04-28 00:35:26,447:Client-AutoMLSMBO(42)::32c9a1b1-04f7-11ef-9362-0242ac110002] Configuration 430 not found\n",
      "[WARNING] [2024-04-28 00:35:26,447:Client-AutoMLSMBO(42)::32c9a1b1-04f7-11ef-9362-0242ac110002] Configuration 422 not found\n",
      "[WARNING] [2024-04-28 00:35:26,447:Client-AutoMLSMBO(42)::32c9a1b1-04f7-11ef-9362-0242ac110002] Configuration 81 not found\n",
      "[WARNING] [2024-04-28 00:35:26,447:Client-AutoMLSMBO(42)::32c9a1b1-04f7-11ef-9362-0242ac110002] Configuration 40 not found\n",
      "[WARNING] [2024-04-28 00:35:26,447:Client-AutoMLSMBO(42)::32c9a1b1-04f7-11ef-9362-0242ac110002] Configuration 262 not found\n",
      "[WARNING] [2024-04-28 00:35:26,448:Client-AutoMLSMBO(42)::32c9a1b1-04f7-11ef-9362-0242ac110002] Configuration 574 not found\n",
      "[WARNING] [2024-04-28 00:35:26,448:Client-AutoMLSMBO(42)::32c9a1b1-04f7-11ef-9362-0242ac110002] Configuration 53 not found\n",
      "[WARNING] [2024-04-28 00:35:26,448:Client-AutoMLSMBO(42)::32c9a1b1-04f7-11ef-9362-0242ac110002] Configuration 338 not found\n",
      "[WARNING] [2024-04-28 00:35:26,448:Client-AutoMLSMBO(42)::32c9a1b1-04f7-11ef-9362-0242ac110002] Configuration 701 not found\n",
      "[WARNING] [2024-04-28 00:35:26,448:Client-AutoMLSMBO(42)::32c9a1b1-04f7-11ef-9362-0242ac110002] Configuration 43 not found\n",
      "[WARNING] [2024-04-28 00:35:26,448:Client-AutoMLSMBO(42)::32c9a1b1-04f7-11ef-9362-0242ac110002] Configuration 243 not found\n",
      "[WARNING] [2024-04-28 00:35:26,448:Client-AutoMLSMBO(42)::32c9a1b1-04f7-11ef-9362-0242ac110002] Configuration 674 not found\n",
      "[WARNING] [2024-04-28 00:35:26,448:Client-AutoMLSMBO(42)::32c9a1b1-04f7-11ef-9362-0242ac110002] Configuration 486 not found\n",
      "[WARNING] [2024-04-28 00:35:26,450:Client-AutoMLSMBO(42)::32c9a1b1-04f7-11ef-9362-0242ac110002] Configuration 670 not found\n",
      "[WARNING] [2024-04-28 00:35:26,450:Client-AutoMLSMBO(42)::32c9a1b1-04f7-11ef-9362-0242ac110002] Configuration 528 not found\n",
      "[WARNING] [2024-04-28 00:35:26,450:Client-AutoMLSMBO(42)::32c9a1b1-04f7-11ef-9362-0242ac110002] Configuration 171 not found\n",
      "[WARNING] [2024-04-28 00:35:26,450:Client-AutoMLSMBO(42)::32c9a1b1-04f7-11ef-9362-0242ac110002] Configuration 403 not found\n",
      "[WARNING] [2024-04-28 00:35:26,451:Client-AutoMLSMBO(42)::32c9a1b1-04f7-11ef-9362-0242ac110002] Configuration 563 not found\n",
      "[WARNING] [2024-04-28 00:35:26,451:Client-AutoMLSMBO(42)::32c9a1b1-04f7-11ef-9362-0242ac110002] Configuration 232 not found\n",
      "[WARNING] [2024-04-28 00:35:26,452:Client-AutoMLSMBO(42)::32c9a1b1-04f7-11ef-9362-0242ac110002] Configuration 480 not found\n",
      "[WARNING] [2024-04-28 00:35:26,452:Client-AutoMLSMBO(42)::32c9a1b1-04f7-11ef-9362-0242ac110002] Configuration 293 not found\n",
      "[WARNING] [2024-04-28 00:35:26,452:Client-AutoMLSMBO(42)::32c9a1b1-04f7-11ef-9362-0242ac110002] Configuration 154 not found\n",
      "[WARNING] [2024-04-28 00:35:26,452:Client-AutoMLSMBO(42)::32c9a1b1-04f7-11ef-9362-0242ac110002] Configuration 172 not found\n",
      "[WARNING] [2024-04-28 00:35:26,453:Client-AutoMLSMBO(42)::32c9a1b1-04f7-11ef-9362-0242ac110002] Configuration 37 not found\n",
      "[WARNING] [2024-04-28 00:35:26,453:Client-AutoMLSMBO(42)::32c9a1b1-04f7-11ef-9362-0242ac110002] Configuration 131 not found\n",
      "[WARNING] [2024-04-28 00:35:26,454:Client-AutoMLSMBO(42)::32c9a1b1-04f7-11ef-9362-0242ac110002] Configuration 270 not found\n",
      "[WARNING] [2024-04-28 00:35:26,454:Client-AutoMLSMBO(42)::32c9a1b1-04f7-11ef-9362-0242ac110002] Configuration 114 not found\n",
      "[WARNING] [2024-04-28 00:35:26,455:Client-AutoMLSMBO(42)::32c9a1b1-04f7-11ef-9362-0242ac110002] Configuration 302 not found\n",
      "[WARNING] [2024-04-28 00:35:26,455:Client-AutoMLSMBO(42)::32c9a1b1-04f7-11ef-9362-0242ac110002] Configuration 640 not found\n",
      "[WARNING] [2024-04-28 00:35:26,455:Client-AutoMLSMBO(42)::32c9a1b1-04f7-11ef-9362-0242ac110002] Configuration 214 not found\n",
      "[WARNING] [2024-04-28 00:35:26,455:Client-AutoMLSMBO(42)::32c9a1b1-04f7-11ef-9362-0242ac110002] Configuration 183 not found\n",
      "[WARNING] [2024-04-28 00:35:26,455:Client-AutoMLSMBO(42)::32c9a1b1-04f7-11ef-9362-0242ac110002] Configuration 524 not found\n",
      "[WARNING] [2024-04-28 00:35:26,456:Client-AutoMLSMBO(42)::32c9a1b1-04f7-11ef-9362-0242ac110002] Configuration 538 not found\n",
      "[WARNING] [2024-04-28 00:35:26,457:Client-AutoMLSMBO(42)::32c9a1b1-04f7-11ef-9362-0242ac110002] Configuration 412 not found\n",
      "[WARNING] [2024-04-28 00:35:26,457:Client-AutoMLSMBO(42)::32c9a1b1-04f7-11ef-9362-0242ac110002] Configuration 395 not found\n",
      "[WARNING] [2024-04-28 00:35:26,457:Client-AutoMLSMBO(42)::32c9a1b1-04f7-11ef-9362-0242ac110002] Configuration 58 not found\n",
      "[WARNING] [2024-04-28 00:35:26,458:Client-AutoMLSMBO(42)::32c9a1b1-04f7-11ef-9362-0242ac110002] Configuration 25 not found\n",
      "[WARNING] [2024-04-28 00:35:26,458:Client-AutoMLSMBO(42)::32c9a1b1-04f7-11ef-9362-0242ac110002] Configuration 291 not found\n",
      "[WARNING] [2024-04-28 00:35:26,458:Client-AutoMLSMBO(42)::32c9a1b1-04f7-11ef-9362-0242ac110002] Configuration 452 not found\n",
      "[WARNING] [2024-04-28 00:35:26,458:Client-AutoMLSMBO(42)::32c9a1b1-04f7-11ef-9362-0242ac110002] Configuration 120 not found\n",
      "[WARNING] [2024-04-28 00:35:26,458:Client-AutoMLSMBO(42)::32c9a1b1-04f7-11ef-9362-0242ac110002] Configuration 375 not found\n",
      "[WARNING] [2024-04-28 00:35:26,459:Client-AutoMLSMBO(42)::32c9a1b1-04f7-11ef-9362-0242ac110002] Configuration 363 not found\n",
      "[WARNING] [2024-04-28 00:35:26,461:Client-AutoMLSMBO(42)::32c9a1b1-04f7-11ef-9362-0242ac110002] Configuration 643 not found\n",
      "[WARNING] [2024-04-28 00:35:26,461:Client-AutoMLSMBO(42)::32c9a1b1-04f7-11ef-9362-0242ac110002] Configuration 102 not found\n",
      "[WARNING] [2024-04-28 00:35:26,461:Client-AutoMLSMBO(42)::32c9a1b1-04f7-11ef-9362-0242ac110002] Configuration 150 not found\n"
     ]
    },
    {
     "name": "stdout",
     "output_type": "stream",
     "text": [
      "AutoML Accuracy 0.7553191489361702\n"
     ]
    }
   ],
   "source": [
    "scorer = autosklearn.metrics.accuracy\n",
    "automl = AutoSklearnClassifier(time_left_for_this_task=1200,\n",
    "                               per_run_time_limit=100,\n",
    "                               n_jobs=5,\n",
    "                               seed=42,\n",
    "                              include = {\n",
    "                                            'classifier': [\"random_forest\"],\n",
    "                                            # 'feature_preprocessor': [\"no_preprocessing\"]\n",
    "                                        },\n",
    "                               resampling_strategy=\"cv\",\n",
    "                               resampling_strategy_arguments={\"train_size\": 0.7,     # The size of the training set\n",
    "                                                                \"shuffle\": True,        # Whether to shuffle before splitting data\n",
    "                                                                \"folds\": 3    },\n",
    "                               metric=scorer\n",
    "                              )\n",
    "automl.fit(X_train, y_train)\n",
    "# y_hat = automl.predict(X_test_trans)\n",
    "print(\"AutoML Accuracy\", automl.score(X_test, y_test))"
   ]
  },
  {
   "cell_type": "code",
   "execution_count": 62,
   "id": "9901d8ec",
   "metadata": {},
   "outputs": [
    {
     "name": "stdout",
     "output_type": "stream",
     "text": [
      "          rank  ensemble_weight           type      cost   duration\n",
      "model_id                                                           \n",
      "41           1             0.12  random_forest  0.250381  52.741691\n",
      "49           2             0.08  random_forest  0.260274  72.780458\n",
      "7            3             0.04  random_forest  0.262557  23.732624\n",
      "50           4             0.06  random_forest  0.265601  35.486047\n",
      "84           5             0.06  random_forest  0.265601  87.699641\n",
      "65           6             0.02  random_forest  0.267123  87.939051\n",
      "21           7             0.08  random_forest  0.268645  32.508962\n",
      "69           8             0.02  random_forest  0.273973  45.950902\n",
      "4            9             0.14  random_forest  0.275495  63.576401\n",
      "3           10             0.02  random_forest  0.283105  36.530644\n",
      "33          11             0.08  random_forest  0.292237  35.023689\n",
      "38          13             0.02  random_forest  0.295282  42.332985\n",
      "78          12             0.06  random_forest  0.295282  31.581222\n",
      "77          14             0.02  random_forest  0.299087  55.189522\n",
      "87          15             0.02  random_forest  0.309741  79.453753\n",
      "13          16             0.06  random_forest  0.315068  44.106071\n",
      "11          17             0.06  random_forest  0.318113  88.774107\n",
      "19          18             0.02  random_forest  0.343227  34.116496\n",
      "81          19             0.02  random_forest  0.371385  47.188444\n"
     ]
    }
   ],
   "source": [
    "print(automl.leaderboard())"
   ]
  },
  {
   "cell_type": "code",
   "execution_count": 65,
   "id": "f913f46d",
   "metadata": {},
   "outputs": [
    {
     "data": {
      "text/plain": [
       "{'model_id': 41,\n",
       " 'rank': 10,\n",
       " 'cost': 0.2503805175038052,\n",
       " 'ensemble_weight': 0.12,\n",
       " 'voting_model': VotingClassifier(estimators=None, voting='soft'),\n",
       " 'estimators': [{'data_preprocessor': <autosklearn.pipeline.components.data_preprocessing.DataPreprocessorChoice at 0x416badfc10>,\n",
       "   'balancing': Balancing(random_state=42, strategy='weighting'),\n",
       "   'feature_preprocessor': <autosklearn.pipeline.components.feature_preprocessing.FeaturePreprocessorChoice at 0x410139c370>,\n",
       "   'classifier': <autosklearn.pipeline.components.classification.ClassifierChoice at 0x4159b68400>,\n",
       "   'sklearn_classifier': RandomForestClassifier(bootstrap=False, max_features=2, min_samples_split=6,\n",
       "                          n_estimators=512, n_jobs=1, random_state=42,\n",
       "                          warm_start=True)},\n",
       "  {'data_preprocessor': <autosklearn.pipeline.components.data_preprocessing.DataPreprocessorChoice at 0x40ffc5fc10>,\n",
       "   'balancing': Balancing(random_state=42, strategy='weighting'),\n",
       "   'feature_preprocessor': <autosklearn.pipeline.components.feature_preprocessing.FeaturePreprocessorChoice at 0x414a552ee0>,\n",
       "   'classifier': <autosklearn.pipeline.components.classification.ClassifierChoice at 0x414a552640>,\n",
       "   'sklearn_classifier': RandomForestClassifier(bootstrap=False, max_features=2, min_samples_split=6,\n",
       "                          n_estimators=512, n_jobs=1, random_state=42,\n",
       "                          warm_start=True)},\n",
       "  {'data_preprocessor': <autosklearn.pipeline.components.data_preprocessing.DataPreprocessorChoice at 0x410e0494c0>,\n",
       "   'balancing': Balancing(random_state=42, strategy='weighting'),\n",
       "   'feature_preprocessor': <autosklearn.pipeline.components.feature_preprocessing.FeaturePreprocessorChoice at 0x4100a64bb0>,\n",
       "   'classifier': <autosklearn.pipeline.components.classification.ClassifierChoice at 0x4100a64790>,\n",
       "   'sklearn_classifier': RandomForestClassifier(bootstrap=False, max_features=2, min_samples_split=6,\n",
       "                          n_estimators=512, n_jobs=1, random_state=42,\n",
       "                          warm_start=True)}]}"
      ]
     },
     "execution_count": 65,
     "metadata": {},
     "output_type": "execute_result"
    }
   ],
   "source": [
    "automl.show_models()[41]"
   ]
  },
  {
   "cell_type": "code",
   "execution_count": 67,
   "id": "db20b570",
   "metadata": {},
   "outputs": [
    {
     "data": {
      "image/png": "[encoded data removed]",
      "text/plain": [
       "<Figure size 640x480 with 1 Axes>"
      ]
     },
     "metadata": {},
     "output_type": "display_data"
    }
   ],
   "source": [
    "poT = automl.performance_over_time_\n",
    "poT.plot(\n",
    "    x=\"Timestamp\",\n",
    "    kind=\"line\",\n",
    "    legend=True,\n",
    "    title=\"Auto-sklearn accuracy over time\",\n",
    "    grid=True,\n",
    ")\n",
    "plt.show()"
   ]
  },
  {
   "cell_type": "code",
   "execution_count": 68,
   "id": "8be233e4",
   "metadata": {},
   "outputs": [
    {
     "name": "stdout",
     "output_type": "stream",
     "text": [
      "Lowest loss: 0.2503805175038052\n",
      "Best configuration: Configuration(values={\n",
      "  'balancing:strategy': 'weighting',\n",
      "  'classifier:__choice__': 'random_forest',\n",
      "  'classifier:random_forest:bootstrap': 'False',\n",
      "  'classifier:random_forest:criterion': 'gini',\n",
      "  'classifier:random_forest:max_depth': 'None',\n",
      "  'classifier:random_forest:max_features': 0.3211037518766139,\n",
      "  'classifier:random_forest:max_leaf_nodes': 'None',\n",
      "  'classifier:random_forest:min_impurity_decrease': 0.0,\n",
      "  'classifier:random_forest:min_samples_leaf': 1,\n",
      "  'classifier:random_forest:min_samples_split': 6,\n",
      "  'classifier:random_forest:min_weight_fraction_leaf': 0.0,\n",
      "  'data_preprocessor:__choice__': 'feature_type',\n",
      "  'data_preprocessor:feature_type:numerical_transformer:imputation:strategy': 'mean',\n",
      "  'data_preprocessor:feature_type:numerical_transformer:rescaling:__choice__': 'standardize',\n",
      "  'feature_preprocessor:__choice__': 'fast_ica',\n",
      "  'feature_preprocessor:fast_ica:algorithm': 'deflation',\n",
      "  'feature_preprocessor:fast_ica:fun': 'logcosh',\n",
      "  'feature_preprocessor:fast_ica:whiten': 'False',\n",
      "})\n",
      "\n"
     ]
    }
   ],
   "source": [
    "losses_and_configurations = [\n",
    "    (run_value.cost, run_key.config_id)\n",
    "    for run_key, run_value in automl.automl_.runhistory_.data.items()\n",
    "]\n",
    "losses_and_configurations.sort()\n",
    "print(\"Lowest loss:\", losses_and_configurations[0][0])\n",
    "print(\n",
    "    \"Best configuration:\",\n",
    "    automl.automl_.runhistory_.ids_config[losses_and_configurations[0][1]],\n",
    ")"
   ]
  },
  {
   "cell_type": "markdown",
   "id": "ee1fdd66",
   "metadata": {},
   "source": [
    "# Ablation Study with the pipeline\n",
    "\n",
    "The ablation study will be conducted with a greedy approach -- we will start with the default model and add hyperparameters one by one based on the performance improvement of that hyperparameter. We use the best tuned random forest model (ie., the highest-rank RF by AutoML). First we need to find the highest performance improvement over the default hyperparameters.\n",
    "\n",
    "\n",
    "| Pipeline | Default | Tuned |\n",
    "| ---- | ---- | ---- |\n",
    "| Accuracy | 0.75 | 0.7553 |\n",
    "| **Data preprocessor** | None | StandardScaler |\n",
    "| **Feature preprocessor** | None | fast_ica |\n",
    "| **bootstrap** | True | False |\n",
    "| criterion | gini | gini |\n",
    "| max_depth | None | None |\n",
    "| **max_features** | 'sqrt' |  0.3211037518766139 |\n",
    "| max_leaf_nodes | None | None |\n",
    "| min_impurity_decrease | 0.0 | 0.0 |\n",
    "| min_samples_leaf | 1 | 1 |\n",
    "| **min_samples_split** | 2 | 6 |\n",
    "| min_weight_fraction_leaf | 0.0 | 0.0 |\n",
    "| n_estimators | 100 | 100 |\n",
    "| warm_start | False | False |\n",
    "\n",
    "From the table above, we can observe that only `Data preprocessor`, `Feature preprocessor`, `bootstrap`, `max_features`, and `min_samples_split` have changed for the tuned RF classifier compared to the default RF classifier. The rest of the hyperparameters have remained the same. Therefore, we will only focus on ablation study of these changed hyperparameters\n"
   ]
  },
  {
   "cell_type": "code",
   "execution_count": 69,
   "id": "3eba2dd3",
   "metadata": {},
   "outputs": [],
   "source": [
    "from copy import deepcopy\n",
    "from sklearn.pipeline import Pipeline"
   ]
  },
  {
   "cell_type": "code",
   "execution_count": 70,
   "id": "26c3742b",
   "metadata": {},
   "outputs": [],
   "source": [
    "from sklearn.preprocessing import StandardScaler\n",
    "from sklearn.decomposition import FastICA"
   ]
  },
  {
   "cell_type": "code",
   "execution_count": 71,
   "id": "88c5c1c0",
   "metadata": {},
   "outputs": [],
   "source": [
    "data_prep = StandardScaler()\n",
    "feat_prep = FastICA(algorithm='deflation', fun='logcosh', whiten=False, random_state=42)"
   ]
  },
  {
   "cell_type": "code",
   "execution_count": 79,
   "id": "892739dc",
   "metadata": {},
   "outputs": [],
   "source": [
    "final_params = [\n",
    "    (\"scaler\", data_prep), (\"transform\", feat_prep),\n",
    "    {\"bootstrap\": False}, {\"max_features\": 0.3211037518766139},\n",
    "    {\"min_samples_split\": 6}, \n",
    "    #{\"n_estimators\": 512}, {\"warm_start\": True}\n",
    "]"
   ]
  },
  {
   "cell_type": "code",
   "execution_count": 80,
   "id": "274fe9bb",
   "metadata": {},
   "outputs": [
    {
     "name": "stdout",
     "output_type": "stream",
     "text": [
      "0.7464539007092199 ('scaler', StandardScaler())\n",
      "0.7464539007092199 ('transform', FastICA(algorithm='deflation', random_state=42, whiten=False))\n",
      "0.7340425531914894 {'bootstrap': False}\n",
      "0.75 {'max_features': 0.3211037518766139}\n",
      "0.7393617021276596 {'min_samples_split': 6}\n",
      "Best score 0.75 with {'max_features': 0.3211037518766139}\n",
      "0.7464539007092199 ('scaler', StandardScaler())\n",
      "0.7464539007092199 ('transform', FastICA(algorithm='deflation', random_state=42, whiten=False))\n",
      "0.7340425531914894 {'bootstrap': False}\n",
      "0.7393617021276596 {'min_samples_split': 6}\n",
      "Best score 0.7464539007092199 with ('scaler', StandardScaler())\n",
      "0.7446808510638298 ('transform', FastICA(algorithm='deflation', random_state=42, whiten=False))\n",
      "0.7340425531914894 {'bootstrap': False}\n",
      "0.7393617021276596 {'min_samples_split': 6}\n",
      "Best score 0.7446808510638298 with ('transform', FastICA(algorithm='deflation', random_state=42, whiten=False))\n",
      "0.7624113475177305 {'bootstrap': False}\n",
      "0.7429078014184397 {'min_samples_split': 6}\n",
      "Best score 0.7624113475177305 with {'bootstrap': False}\n",
      "0.7553191489361702 {'min_samples_split': 6}\n",
      "Best score 0.7553191489361702 with {'min_samples_split': 6}\n"
     ]
    }
   ],
   "source": [
    "order_score = [(default_score, None)]\n",
    "tuned = {\n",
    "    \"prep\": [],\n",
    "    \"model\": {}\n",
    "}\n",
    "to_tune = deepcopy(final_params) \n",
    "while len(to_tune) > 0:\n",
    "    cur_score = 0\n",
    "    cur_param = None\n",
    "    tune_candidate = None\n",
    "    for param in to_tune:\n",
    "        cur_tune = deepcopy(tuned)\n",
    "        if isinstance(param, dict):\n",
    "            # print(param)\n",
    "            cur_tune['model'].update(param)\n",
    "        else:\n",
    "            cur_tune['prep'].append(param)\n",
    "        pipe = Pipeline([*cur_tune['prep'], (\"rf\", RandomForestClassifier(**cur_tune['model'], random_state=42))])\n",
    "        pipe.fit(X_train, y_train)\n",
    "        score = pipe.score(X_test, y_test)\n",
    "        if score > cur_score:\n",
    "            cur_score = score\n",
    "            cur_param = param\n",
    "            tune_candidate = cur_tune\n",
    "        print(score, param)\n",
    "    print(\"Best score\", cur_score, \"with\", cur_param)\n",
    "    order_score.append((cur_score, cur_param))\n",
    "    to_tune.remove(cur_param)\n",
    "    tuned = tune_candidate"
   ]
  },
  {
   "cell_type": "code",
   "execution_count": 81,
   "id": "c7328c5e",
   "metadata": {},
   "outputs": [],
   "source": [
    "from pprint import pprint"
   ]
  },
  {
   "cell_type": "code",
   "execution_count": 82,
   "id": "8463cf17",
   "metadata": {},
   "outputs": [
    {
     "name": "stdout",
     "output_type": "stream",
     "text": [
      "[(0.75, None),\n",
      " (0.75, {'max_features': 0.3211037518766139}),\n",
      " (0.7464539007092199, ('scaler', StandardScaler())),\n",
      " (0.7446808510638298,\n",
      "  ('transform', FastICA(algorithm='deflation', random_state=42, whiten=False))),\n",
      " (0.7624113475177305, {'bootstrap': False}),\n",
      " (0.7553191489361702, {'min_samples_split': 6})]\n",
      "Improvement:\n",
      "array([ 0.        , -0.00472813, -0.0023753 ,  0.02380952, -0.00930233])\n"
     ]
    }
   ],
   "source": [
    "pprint(order_score)\n",
    "scores, params = list(zip(*order_score))\n",
    "scores = np.array(scores)\n",
    "print(\"Improvement:\")\n",
    "pprint((scores[1:] - scores[:-1]) / scores[:-1])"
   ]
  },
  {
   "cell_type": "code",
   "execution_count": 84,
   "id": "83791d95",
   "metadata": {},
   "outputs": [
    {
     "name": "stdout",
     "output_type": "stream",
     "text": [
      "0.7641843971631206\n"
     ]
    }
   ],
   "source": [
    "pipe = Pipeline([('transform', feat_prep),\n",
    "                 ('scaler', data_prep),\n",
    "                 (\"rf\", RandomForestClassifier(**{'max_features': 0.3211037518766139,\n",
    "                                                 'bootstrap': False},\n",
    "                                               random_state=42))])\n",
    "pipe.fit(X_train, y_train)\n",
    "score = pipe.score(X_test, y_test)\n",
    "print(score)"
   ]
  },
  {
   "cell_type": "markdown",
   "id": "39364917",
   "metadata": {},
   "source": [
    "# Results and Discussion\n",
    "\n",
    "| Componenets | performance (accuracy) | percentage Improvement |\n",
    "| ---- | ---- | ---- |\n",
    "| max_features | 0.75 | 0% |\n",
    "| scaler | 0.7465 | -0.473% |\n",
    "| transform | 0.7447 | -0.238% |\n",
    "| bootstrap | 0.7624 | +2.38% |\n",
    "| min_samples_split | 0.7553 | -0.930% |\n",
    "\n",
    "The ablation study above shows some interesting results. With a greedy approach to study ablation path, we always pick hyperparameter one-by-one based on its impact on the overall the accuracy score of the model for the current state. The tuned pipeline has the highest performance improvement after disabling `bootstrap`. The pipeline's performance decreased slightly for other hyperparameter changes. The model can achieve a better performance if `min_samples_split` remained the same as default.\n",
    "\n",
    "It is interesting that many HPs for the tuned RF classifier are the same as the default model. I think this is likely due to the default RF hyperparameters are almost an optimal set for RF classifier for this dataset. This also explains in many cases that RF can be a good first-choice for certain task or acts as a surrogate model during HPO process."
   ]
  },
  {
   "cell_type": "code",
   "execution_count": null,
   "id": "0615df98",
   "metadata": {},
   "outputs": [],
   "source": []
  }
 ],
 "metadata": {
  "kernelspec": {
   "display_name": "Python 3 (ipykernel)",
   "language": "python",
   "name": "python3"
  },
  "language_info": {
   "codemirror_mode": {
    "name": "ipython",
    "version": 3
   },
   "file_extension": ".py",
   "mimetype": "text/x-python",
   "name": "python",
   "nbconvert_exporter": "python",
   "pygments_lexer": "ipython3",
   "version": "3.8.10"
  }
 },
 "nbformat": 4,
 "nbformat_minor": 5
}
